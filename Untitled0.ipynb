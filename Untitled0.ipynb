{
  "nbformat": 4,
  "nbformat_minor": 0,
  "metadata": {
    "colab": {
      "provenance": [],
      "authorship_tag": "ABX9TyPYHb9C4nLYf8PFsGa8h+yX",
      "include_colab_link": true
    },
    "kernelspec": {
      "name": "python3",
      "display_name": "Python 3"
    },
    "language_info": {
      "name": "python"
    }
  },
  "cells": [
    {
      "cell_type": "markdown",
      "metadata": {
        "id": "view-in-github",
        "colab_type": "text"
      },
      "source": [
        "<a href=\"https://colab.research.google.com/github/samskruthipalthad/ASSIGNMENT4/blob/main/Untitled0.ipynb\" target=\"_parent\"><img src=\"https://colab.research.google.com/assets/colab-badge.svg\" alt=\"Open In Colab\"/></a>"
      ]
    },
    {
      "cell_type": "code",
      "execution_count": null,
      "metadata": {
        "id": "bI3GpXWEqqQP"
      },
      "outputs": [],
      "source": [
        "`import numpy as np\n",
        "\n",
        "\n",
        "def calculate(list):\n",
        "    array = np.array(list)\n",
        "\n",
        "    try:\n",
        "        matrix = array.reshape((3, 3))\n",
        "    except ValueError:\n",
        "        raise ValueError(\"List must contain nine numbers.\")\n",
        "    else:\n",
        "        mean = [np.mean(matrix, axis=0).tolist(), np.mean(\n",
        "            matrix, axis=1).tolist(), np.mean(array).tolist()]\n",
        "\n",
        "        variance = [np.var(matrix, axis=0).tolist(), np.var(\n",
        "            matrix, axis=1).tolist(), np.var(array).tolist()]\n",
        "\n",
        "        standard_deviation = [(np.array(v) ** 0.5).tolist() for v in variance]\n",
        "\n",
        "        max = [np.max(matrix, axis=0).tolist(), np.max(\n",
        "            matrix, axis=1).tolist(), np.max(array).tolist()]\n",
        "        min = [np.min(matrix, axis=0).tolist(), np.min(\n",
        "            matrix, axis=1).tolist(), np.min(array).tolist()]\n",
        "        sum = [np.sum(matrix, axis=0).tolist(), np.sum(\n",
        "            matrix, axis=1).tolist(), np.sum(array).tolist()]\n",
        "\n",
        "        calculations = {\n",
        "            \"mean\": mean,\n",
        "            \"variance\": variance,\n",
        "            \"standard deviation\": standard_deviation,\n",
        "            \"max\": max,\n",
        "            \"min\": min,\n",
        "            \"sum\": sum\n",
        "        }\n",
        "\n",
        "        return calculations\n",
        "\n",
        "\n"
      ]
    }
  ]
}